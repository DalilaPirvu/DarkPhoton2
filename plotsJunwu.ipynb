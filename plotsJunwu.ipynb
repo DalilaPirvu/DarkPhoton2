{
 "cells": [
  {
   "cell_type": "code",
   "execution_count": 1,
   "metadata": {
    "tags": []
   },
   "outputs": [
    {
     "name": "stdout",
     "output_type": "stream",
     "text": [
      "/home/dpirvu/DarkPhoton\n",
      "The history saving thread hit an unexpected error (DatabaseError('database disk image is malformed')).History will not be written to the database.\n"
     ]
    }
   ],
   "source": [
    "cd '/home/dpirvu/DarkPhoton/'"
   ]
  },
  {
   "cell_type": "code",
   "execution_count": 2,
   "metadata": {
    "tags": []
   },
   "outputs": [
    {
     "name": "stdout",
     "output_type": "stream",
     "text": [
      "['/home/dpirvu/DarkPhoton', '/cm/shared/apps/python/python37/lib/python37.zip', '/cm/shared/apps/python/python37/lib/python3.7', '/cm/shared/apps/python/python37/lib/python3.7/lib-dynload', '', '/home/dpirvu/.local/lib/python3.7/site-packages', '/home/dpirvu/DarkPhotonxunWISE/hmvec-master', '/cm/shared/apps/python/python37/lib/python3.7/site-packages', '/cm/shared/apps/python/python37/lib/python3.7/site-packages/IPython/extensions', '/home/dpirvu/.ipython']\n",
      "['/home/dpirvu/DarkPhoton', '/cm/shared/apps/python/python37/lib/python37.zip', '/cm/shared/apps/python/python37/lib/python3.7', '/cm/shared/apps/python/python37/lib/python3.7/lib-dynload', '', '/home/dpirvu/.local/lib/python3.7/site-packages', '/cm/shared/apps/python/python37/lib/python3.7/site-packages', '/cm/shared/apps/python/python37/lib/python3.7/site-packages/IPython/extensions', '/home/dpirvu/.ipython', '/home/dpirvu/DarkPhoton/hmvec-master/', '/home/dpirvu/python_stuff/']\n"
     ]
    }
   ],
   "source": [
    "import os,sys\n",
    "\n",
    "print(sys.path)\n",
    "\n",
    "sys.path.remove('/home/dpirvu/DarkPhotonxunWISE/hmvec-master')\n",
    "\n",
    "sys.path.append('/home/dpirvu/DarkPhoton/hmvec-master/')\n",
    "sys.path.append('/home/dpirvu/python_stuff/')\n",
    "\n",
    "print(sys.path)\n",
    "\n",
    "import hmvec as hm\n",
    "\n",
    "from plotting import *\n",
    "from compute_power_spectra import *\n",
    "#from params import *\n",
    "from params_old import *\n",
    "\n",
    "%matplotlib inline\n",
    "\n",
    "np_load_old = np.load\n",
    "np.load = lambda *a,**k: np_load_old(*a, allow_pickle=True, **k)\n"
   ]
  },
  {
   "cell_type": "code",
   "execution_count": 3,
   "metadata": {
    "tags": []
   },
   "outputs": [],
   "source": [
    "from scipy.ndimage import gaussian_filter1d"
   ]
  },
  {
   "cell_type": "code",
   "execution_count": 4,
   "metadata": {
    "tags": []
   },
   "outputs": [],
   "source": [
    "def beautify(ax, loc='best', ncol=1, ttl=None, bb=None):\n",
    "    try:\n",
    "        len(ax)\n",
    "    except:\n",
    "        ax = np.array([ax])\n",
    "    for ai, aa in enumerate(ax.flatten()):\n",
    "        aa.grid(which='both', ls=':', color='lightgray', alpha=0.7)\n",
    "        aa.tick_params(direction='in', which='both', top=True, right=True)\n",
    "        #aa.ticklabel_format(axis='both', style='scientific', scilimits=[0.,0.])\n",
    "        aa.xaxis.set_label_coords(0.5, -0.15)\n",
    "        aa.yaxis.set_label_coords(-0.15, 0.5)\n",
    "        aa.xaxis.label.set_color('k')\n",
    "        aa.yaxis.label.set_color('k')\n",
    "        aa.tick_params(axis='x', colors='k')\n",
    "        aa.tick_params(axis='y', colors='k')\n",
    "        aa.tick_params(direction='in', which='both', bottom=None, left=None, top=None, right=None)\n",
    "        aa.spines['left'].set_color('k')\n",
    "        aa.spines['right'].set_color('k')\n",
    "        aa.spines['top'].set_color('k')\n",
    "        aa.spines['bottom'].set_color('k')\n",
    "        aa.legend(title=ttl, loc=loc, ncol=ncol, bbox_to_anchor=bb, frameon=False, handlelength=1.2, labelspacing=0.3, columnspacing=0.)\n",
    "    return ax\n",
    "\n",
    "# Define function for string formatting of scientific notation\n",
    "def sci_notation(num, decimal_digits=1, precision=None, exponent=None):\n",
    "    \"\"\"\n",
    "    Returns a string representation of the scientific\n",
    "    notation of the given number formatted for use with\n",
    "    LaTeX or Mathtext, with specified number of significant\n",
    "    decimal digits and precision (number of decimal digits\n",
    "    to show). The exponent to be used can also be specified\n",
    "    explicitly.\n",
    "    \"\"\"\n",
    "    if exponent is None:\n",
    "        exponent = int(np.floor(np.log10(abs(num))))\n",
    "    coeff = round(num / float(10.**exponent), decimal_digits)\n",
    "    if precision is None:\n",
    "        precision = decimal_digits\n",
    "\n",
    "    return r\"${0:.{2}f}\\times 10^{{{1:d}}}$\".format(coeff, exponent, precision)\n",
    " #   return r\"$10^{{{1:d}}}$\".format(coeff, exponent, precision)\n",
    "\n",
    "def clear_last_coln(ax, title=None):\n",
    "    ax[len(ax)-1].legend(loc='center', ncol=1, frameon=False, title=title)\n",
    "    ax[len(ax)-1].set_ylim((-1,0))\n",
    "    ax[len(ax)-1].set_xlim((-1,0))\n",
    "    ax[len(ax)-1].spines['right'].set_visible(False)\n",
    "    ax[len(ax)-1].spines['left'].set_visible(False)\n",
    "    ax[len(ax)-1].spines['top'].set_visible(False)\n",
    "    ax[len(ax)-1].spines['bottom'].set_visible(False)\n",
    "    ax[len(ax)-1].axes.yaxis.set_ticklabels([])\n",
    "    ax[len(ax)-1].axes.xaxis.set_ticklabels([])\n",
    "    ax[len(ax)-1].grid(False)\n",
    "    ax[len(ax)-1].tick_params(left = False,top = False,right = False,bottom = False)\n",
    "    return ax\n"
   ]
  },
  {
   "cell_type": "code",
   "execution_count": 5,
   "metadata": {
    "tags": []
   },
   "outputs": [],
   "source": [
    "ellMax = 9600\n",
    "ells = np.arange(ellMax)\n",
    "\n",
    "getgas = True\n",
    "dictKey = dictKey_gas\n",
    "model = modelParams_gas\n",
    "rscale = False\n",
    "\n",
    "allcols = ['#377eb8', '#ff7f00', 'forestgreen', '#f781bf', '#a65628', '#984ea3', '#999999', '#e41a1c', '#dede00']\n",
    "cych = cycle(allcols)\n",
    "\n",
    "cych = ['#377eb8', '#ff7f00', 'forestgreen', '#f781bf', '#a65628', '#984ea3', '#999999', '#e41a1c', '#dede00']\n",
    "\n",
    "baseline = 30\n",
    "units = xov(baseline)/ghztoev(baseline)\n",
    "\n",
    "ztype = [2., 6., 10.]\n",
    "zreio = 6.\n",
    "nZs = 50\n",
    "\n",
    "compute_noise = True\n",
    "compute_BB_noise = True\n",
    "\n",
    "fsky = [0.7, 0.5, 0.5]\n"
   ]
  },
  {
   "cell_type": "code",
   "execution_count": 6,
   "metadata": {
    "tags": []
   },
   "outputs": [],
   "source": [
    "avtaulist = np.zeros((len(ztype), len(dictKey))) \n",
    "tauMWlist = np.zeros(len(dictKey))\n",
    "dtaudzlist, zsList = np.zeros((2, len(ztype), len(dictKey), 50))\n",
    "Cell1Hdata, Cell2Hdata, CellTauTau = np.zeros((3, len(ztype), len(dictKey), ellMax))\n",
    "Screening = np.zeros((len(ztype), len(dictKey), 4, ellMax))\n",
    "Survey = np.zeros((len(dictKey), ellMax))\n",
    "rcrossdata = np.zeros((len(ztype), len(dictKey), 50, 100))\n",
    "\n",
    "for mind, MA in enumerate(dictKey):\n",
    "    for zind, ztest in enumerate(ztype):\n",
    "\n",
    "        zMin, zMax, rMin, rMax = chooseModel(MA, model)\n",
    "        zMax = min(ztest, zMax)\n",
    "\n",
    "        data = import_data(MA, nZs, zMin, zMax, ellMax, getgas, rscale)\n",
    "        rcross, prob, avtau, dtaudz, rcrossMW, probMW, uell0, Cell1H, Cell2H, CMBDP, CMBDP2 = data\n",
    "\n",
    "        rcrossdata[zind, mind] = rcross\n",
    "\n",
    "        avtaulist[zind, mind]  = 4.*np.pi * avtau * units\n",
    "        dtaudzlist[zind, mind] = 4.*np.pi * dtaudz * units\n",
    "        tauMWlist[mind]        = probMW * units\n",
    "        zsList[zind, mind]     = np.linspace(zMin,zMax,nZs)\n",
    "\n",
    "        Cell1Hdata[zind, mind] = Cell1H\n",
    "        Cell2Hdata[zind, mind] = Cell2H\n",
    "\n",
    "        CellTauTau[zind, mind] = (avtaulist[zind, mind]/(4*np.pi))**2. * (Cell1H + Cell2H)\n",
    "        Screening[zind, mind]  = (avtaulist[zind, mind]/(4*np.pi))**2. * CMBDP\n",
    "\n",
    "for mind, MA in enumerate(dictKey):\n",
    "    Survey[mind] = (avtaulist[1, mind]/(4*np.pi))**2. * (Cell1Hdata[0, mind] + Cell2Hdata[0, mind])\n"
   ]
  },
  {
   "cell_type": "code",
   "execution_count": 7,
   "metadata": {
    "tags": []
   },
   "outputs": [],
   "source": [
    "if True:\n",
    "    ms  = np.geomspace(1e11,1e17,100)       # masses\n",
    "    zs  = np.linspace(zMin,zMax,nZs)        # redshifts\n",
    "    ks  = np.geomspace(1e-4,1e3,1001)       # wavenumbers\n",
    "\n",
    "    # Halo Model\n",
    "    hcos = hm.HaloModel(zs, ks, ms=ms, mass_function='tinker', mdef='vir')\n",
    "    #gas = hcos.add_battaglia_profile(\"y\", family=\"AGN\", xmax=2, nxs=30000)\n",
    "\n",
    "    chis   = hcos.comoving_radial_distance(zs)\n",
    "    rvirs  = np.asarray([hcos.rvir(ms,zz) for zz in zs])\n",
    "    cs     = hcos.concentration()\n",
    "    Hz     = hcos.h_of_z(zs)\n",
    "    nzm    = hcos.get_nzm()\n",
    "    biases = hcos.get_bh()\n",
    "    deltav = hcos.deltav(zs)\n",
    "    rhocritz = hcos.rho_critical_z(zs)\n",
    "    dvols = get_volume_conv(chis, Hz)\n"
   ]
  },
  {
   "cell_type": "code",
   "execution_count": 8,
   "metadata": {
    "tags": []
   },
   "outputs": [
    {
     "name": "stdout",
     "output_type": "stream",
     "text": [
      "Importing base CMB PS and adding T monopole.\n"
     ]
    }
   ],
   "source": [
    "print('Importing base CMB PS and adding T monopole.')\n",
    "CMB_ps        = hcos.CMB_power_spectra()\n",
    "unlenCMB      = CMB_ps['unlensed_scalar']\n",
    "unlenCMB      = unlenCMB[:ellMax, :]\n",
    "unlenCMB[0,0] = TCMB**2.\n",
    "lensedCMB     = CMB_ps['lensed_scalar']\n",
    "lensedCMB     = lensedCMB[:ellMax, :]\n",
    "lensedCMB[0,0]= TCMB**2.\n"
   ]
  },
  {
   "cell_type": "code",
   "execution_count": 14,
   "metadata": {
    "tags": []
   },
   "outputs": [
    {
     "name": "stderr",
     "output_type": "stream",
     "text": [
      "/home/dpirvu/DarkPhoton/hmvec-master/compute_power_spectra.py:533: RuntimeWarning: divide by zero encountered in double_scalars\n",
      "  return 0.21 * (np.sum(TrF[ellmin:])**(-0.25))**0.5\n"
     ]
    },
    {
     "name": "stdout",
     "output_type": "stream",
     "text": [
      "Done\n"
     ]
    }
   ],
   "source": [
    "sigmaEpsilonList = np.ones((len(dictKey[dictKey<=1e-11])+2, 3, 2)) # (#masses sampled, #experiments sampled, #forecast methods)\n",
    "\n",
    "for mind, MA in enumerate(dictKey[dictKey<=1e-11]):\n",
    "    for eind, (expname, experiment) in enumerate(zip(['Planck', 'CMBS4', 'CMBHD'], [Planck, CMBS4, CMBHD])):\n",
    "        if expname=='Planck':\n",
    "            mm = 2\n",
    "            mmm = 5000\n",
    "        else:\n",
    "            mm = 2\n",
    "            mmm = 9000\n",
    "\n",
    "        ellss = np.arange(mmm)            \n",
    "        ILCnoise = np.load(ILCnoisePS_path_gas(expname, zreio))\n",
    "\n",
    "        zind = 1\n",
    "\n",
    "        leftover = ILCnoise[mind, :, ellss]\n",
    "        screening = Screening[zind, mind, :, ellss]\n",
    "        screening[np.isnan(screening)] = 0.\n",
    "        template = Survey[mind, ellss]\n",
    "\n",
    "        # first constraint: CMB screening\n",
    "        sigmaEpsilonList[mind+1, eind, 0] = fsky[eind]**(-0.125) * sigma_screening(0., mm, mmm, screening, leftover)\n",
    "        # second constraint: CMB screening cross correlated wih template\n",
    "        sigmaEpsilonList[mind+1, eind, 1] = fsky[eind]**(-0.25) * sigma_screeningVtemplate(TCMB, 0., mm, mmm, screening, leftover, template)\n",
    "        # third + fourth constraint: bispectrum\n",
    "     #   sigmaEpsilonList[mind+1, eind, 2] = fsky[eind]**(-0.25) * bispTTT[mind, eind]\n",
    "     #   sigmaEpsilonList[mind+1, eind, 3] = fsky[eind]**(-0.25) * bispTEB[mind, eind]\n",
    "\n",
    "    sigmaEpsilonList[ :2, :, :] = 1e-3\n",
    "    sigmaEpsilonList[-1, :, :] = 1e-3\n",
    "\n",
    "print('Done')"
   ]
  },
  {
   "cell_type": "code",
   "execution_count": 15,
   "metadata": {
    "tags": []
   },
   "outputs": [],
   "source": [
    "def add_existing_constraints(ax):\n",
    "    jhdata = np.genfromtxt('./data/DPlimits.txt')\n",
    "    cych = cycle(allcols)\n",
    "\n",
    "    plt.fill_between(jhdata[:,0], jhdata[:,1], np.ones(len(jhdata)), color='darkgray', alpha=1)\n",
    "\n",
    "    xvals, firasz6 = np.load('./data/gas_contour.npy')\n",
    "  #  plt.fill_between(xvals, firasz6, np.ones(len(firasz6)), color=allcols[0])\n",
    " #   plt.text(1.8e-12, 5e-6, r'$\\rm FIRAS$', color='white', weight=\"bold\", rotation=40)\n",
    "\n",
    "    plt.xlim((1e-14, 1e-10))\n",
    "    plt.ylim((10e-11, 5e-5))\n",
    "    #plt.ylabel(r'${\\rm Coupling \\; Constant \\;} \\varepsilon$')\n",
    "    #plt.xlabel(r'${\\rm Dark \\; Photon \\; Mass \\;} m_{\\rm A^{\\prime}} \\; [{\\rm eV}]$')\n",
    "    plt.ylabel(r'$\\varepsilon$')\n",
    "    plt.xlabel(r'$m_{\\rm A^{\\prime}} \\; [{\\rm eV}]$')\n",
    "    plt.xscale('log')\n",
    "    plt.yscale('log')\n",
    "    return ax\n",
    "    "
   ]
  },
  {
   "cell_type": "code",
   "execution_count": 19,
   "metadata": {
    "tags": []
   },
   "outputs": [
    {
     "name": "stderr",
     "output_type": "stream",
     "text": [
      "No artists with labels found to put in legend.  Note that artists whose label start with an underscore are ignored when legend() is called with no argument.\n"
     ]
    },
    {
     "name": "stdout",
     "output_type": "stream",
     "text": [
      "(44, 3, 2)\n"
     ]
    },
    {
     "data": {
      "image/png": "[encoded data removed]",
      "text/plain": [
       "<Figure size 500x340 with 1 Axes>"
      ]
     },
     "metadata": {},
     "output_type": "display_data"
    }
   ],
   "source": [
    "constraint = [r'$\\rm CMB \\, Auto$', \\\n",
    "              r'${\\rm CMB} \\times {\\rm LSS}$', \\\n",
    "           #   r'${\\rm Reconstruction} \\times {\\rm LSS}$', \\\n",
    "              r'$\\left< T^{\\rm dSc} \\times T^{\\rm Sc} \\times T^{\\rm Sc} \\right>$',\\\n",
    "              r'$\\left< T^{\\rm dSc} \\times E^{\\rm Sc} \\times B^{\\rm Sc} \\right>$']\n",
    "\n",
    "fig, ax = plt.subplots(1,1, figsize = (5,3.4))\n",
    "lssss = ['--', '-', ':', '-.', ':']\n",
    "\n",
    "masslist_old = [1.19e-13]+dictKey[dictKey<=1e-11].tolist()+[1.1e-11]\n",
    "masslist = [1.19e-13]+np.geomspace(dictKey[dictKey<=1e-11][0], dictKey[dictKey<=1e-11][-1], 100).tolist()+[1.1e-11]\n",
    "\n",
    "datashape = np.shape(sigmaEpsilonList); print(datashape)\n",
    "for eind, (expname, experiment) in enumerate(zip([r'$\\rm \\mathbf{Planck}$', r'$\\rm \\mathbf{CMB{-}S4}$', r'$\\rm \\mathbf{CMB{-}HD}$'], [Planck, CMBS4, CMBHD])):\n",
    "    secondary_lines, secondary_labels = [], []\n",
    "    if eind==1: break\n",
    "\n",
    "    for method in range(datashape[-1]):\n",
    "        if eind==1 and method>1: continue\n",
    "        if eind==2 and method<=1: continue\n",
    "\n",
    "        col = [allcols[1], allcols[2], allcols[5]][eind]\n",
    "        lss = lssss[method]\n",
    "\n",
    "        if method>=2:\n",
    "            list2intp0 = gaussian_filter1d(sigmaEpsilonList[:3, eind, method], 0.4, mode='nearest')\n",
    "            sigmaEpsilonList[6, eind, method] = 2*sigmaEpsilonList[7, eind, method]\n",
    "            sigmaEpsilonList[8, eind, method] = 0.5*(sigmaEpsilonList[7, eind, method] + sigmaEpsilonList[9, eind, method])\n",
    "            sigmaEpsilonList[12, eind, method] = 0.5*(sigmaEpsilonList[11, eind, method] + sigmaEpsilonList[13, eind, method])\n",
    "            sigmaEpsilonList[18, eind, method] = 0.5*(sigmaEpsilonList[17, eind, method] + sigmaEpsilonList[19, eind, method])\n",
    "            list2intp1 = gaussian_filter1d(sigmaEpsilonList[3:30, eind, method], 0.8, mode='nearest')\n",
    "            list2intp2 = gaussian_filter1d(sigmaEpsilonList[30:-1, eind, method], 0.01, mode='nearest')\n",
    "            list2intp3 = gaussian_filter1d(sigmaEpsilonList[-1:, eind, method], 0.5, mode='nearest')\n",
    "            list2intp = list2intp0.tolist() + list2intp1.tolist() + list2intp2.tolist() + list2intp3.tolist()\n",
    "        else:\n",
    "            list2intp0 = gaussian_filter1d(sigmaEpsilonList[:3, eind, method], 0.5, mode='nearest')\n",
    "            list2intp = list2intp0.tolist() + sigmaEpsilonList[3:, eind, method].tolist()\n",
    "            \n",
    "        ff = interpolate.interp1d(masslist_old, 1./np.asarray(list2intp), kind='linear')\n",
    "        list2plot1 = 1./ff(masslist)\n",
    "\n",
    "       # l1, = plt.plot(masslist_old, sigmaEpsilonList[:, eind, method], color=col, ls=lss)\n",
    "        l1, = plt.plot(masslist, list2plot1, color=col, ls=lss)\n",
    "        secondary_labels.append(constraint[method])\n",
    "        secondary_lines.append(l1)\n",
    "\n",
    "    ax.add_artist(plt.legend(secondary_lines, secondary_labels, title=expname, \\\n",
    "                             fancybox=True, framealpha=1, frameon=False, loc=3))\n",
    "#                             bbox_to_anchor=[(1.,0.8), (1.,0.5), (1.5,0.27)][eind]))\n",
    "\n",
    "   # ax.add_artist(plt.legend(secondary_lines, secondary_labels, title=expname, \\\n",
    "   #                          fancybox=True, framealpha=0.9, borderpad=0.25, loc=['center left',3,2][eind]))\n",
    "add_existing_constraints(ax)\n",
    "beautify(ax)\n",
    "plt.grid(False, which='minor')\n",
    "plt.savefig('./plots/gas_contours_Planck.pdf')\n",
    "plt.show()"
   ]
  },
  {
   "cell_type": "code",
   "execution_count": 12,
   "metadata": {
    "tags": []
   },
   "outputs": [
    {
     "name": "stdout",
     "output_type": "stream",
     "text": [
      "(44, 3, 2)\n"
     ]
    },
    {
     "name": "stderr",
     "output_type": "stream",
     "text": [
      "/cm/shared/apps/python/python37/lib/python3.7/site-packages/ipykernel_launcher.py:39: RuntimeWarning: divide by zero encountered in true_divide\n"
     ]
    },
    {
     "data": {
      "image/png": "[encoded data removed]",
      "text/plain": [
       "<Figure size 500x340 with 1 Axes>"
      ]
     },
     "metadata": {},
     "output_type": "display_data"
    },
    {
     "data": {
      "image/png": "[encoded data removed]",
      "text/plain": [
       "<Figure size 500x340 with 1 Axes>"
      ]
     },
     "metadata": {},
     "output_type": "display_data"
    }
   ],
   "source": [
    "constraint = [r'$\\rm CMB \\, Auto$', \\\n",
    "              r'${\\rm CMB} \\times {\\rm LSS}$', \\\n",
    "           #   r'${\\rm Reconstruction} \\times {\\rm LSS}$', \\\n",
    "              r'$\\left< T^{\\rm dSc} \\times T^{\\rm Sc} \\times T^{\\rm Sc} \\right>$',\\\n",
    "              r'$\\left< T^{\\rm dSc} \\times E^{\\rm Sc} \\times B^{\\rm Sc} \\right>$']\n",
    "\n",
    "\n",
    "masslist_old = [1.19e-13]+dictKey[dictKey<=1e-11].tolist()+[1.1e-11]\n",
    "masslist = [1.19e-13]+np.geomspace(dictKey[dictKey<=1e-11][0], dictKey[dictKey<=1e-11][-1], 100).tolist()+[1.1e-11]\n",
    "\n",
    "datashape = np.shape(sigmaEpsilonList); print(datashape)\n",
    "for eind, (expname, experiment) in enumerate(zip([r'$\\rm \\mathbf{Planck}$', r'$\\rm \\mathbf{CMB{-}S4}$', r'$\\rm \\mathbf{CMB{-}HD}$'], [Planck, CMBS4, CMBHD])):\n",
    "    if eind==2: continue\n",
    "\n",
    "    fig, ax = plt.subplots(1,1, figsize = (5,3.4))\n",
    "    lssss = ['--', '-', ':', '-.', ':']\n",
    "\n",
    "    for method in range(datashape[-1]):\n",
    "        if eind==1 and method>1: continue\n",
    "        if eind==2 and method<=1: continue\n",
    "\n",
    "        col = [allcols[1], allcols[2], allcols[5]][eind]\n",
    "        lss = lssss[method]\n",
    "\n",
    "        if method>=2:\n",
    "            list2intp0 = gaussian_filter1d(sigmaEpsilonList[:3, eind, method], 0.4, mode='nearest')\n",
    "            sigmaEpsilonList[6, eind, method] = 2*sigmaEpsilonList[7, eind, method]\n",
    "            sigmaEpsilonList[8, eind, method] = 0.5*(sigmaEpsilonList[7, eind, method] + sigmaEpsilonList[9, eind, method])\n",
    "            sigmaEpsilonList[12, eind, method] = 0.5*(sigmaEpsilonList[11, eind, method] + sigmaEpsilonList[13, eind, method])\n",
    "            sigmaEpsilonList[18, eind, method] = 0.5*(sigmaEpsilonList[17, eind, method] + sigmaEpsilonList[19, eind, method])\n",
    "            list2intp1 = gaussian_filter1d(sigmaEpsilonList[3:30, eind, method], 0.8, mode='nearest')\n",
    "            list2intp2 = gaussian_filter1d(sigmaEpsilonList[30:-1, eind, method], 0.01, mode='nearest')\n",
    "            list2intp3 = gaussian_filter1d(sigmaEpsilonList[-1:, eind, method], 0.5, mode='nearest')\n",
    "            list2intp = list2intp0.tolist() + list2intp1.tolist() + list2intp2.tolist() + list2intp3.tolist()\n",
    "        else:\n",
    "            list2intp0 = gaussian_filter1d(sigmaEpsilonList[:3, eind, method], 0.5, mode='nearest')\n",
    "            list2intp = list2intp0.tolist() + sigmaEpsilonList[3:, eind, method].tolist()\n",
    "            \n",
    "        ff = interpolate.interp1d(masslist_old, 1./np.asarray(list2intp), kind='linear')\n",
    "        list2plot1 = 1./ff(masslist)\n",
    "\n",
    "       # l1, = plt.plot(masslist_old, sigmaEpsilonList[:, eind, method], color=col, ls=lss)\n",
    "        l1, = plt.plot(masslist, list2plot1, color=col, ls=lss, label=constraint[method])\n",
    "\n",
    "    beautify(ax, ttl=expname, loc=3)\n",
    "    add_existing_constraints(ax)\n",
    "    plt.grid(False, which='minor')\n",
    "    plt.savefig('./plots/gas_contours'+['Planck','S4'][eind]+'.pdf')\n",
    "    plt.show()\n"
   ]
  },
  {
   "cell_type": "code",
   "execution_count": null,
   "metadata": {},
   "outputs": [],
   "source": []
  },
  {
   "cell_type": "code",
   "execution_count": null,
   "metadata": {},
   "outputs": [],
   "source": []
  }
 ],
 "metadata": {
  "kernelspec": {
   "display_name": "Python 3.7 (module)",
   "language": "python",
   "name": "python37-module"
  },
  "language_info": {
   "codemirror_mode": {
    "name": "ipython",
    "version": 3
   },
   "file_extension": ".py",
   "mimetype": "text/x-python",
   "name": "python",
   "nbconvert_exporter": "python",
   "pygments_lexer": "ipython3",
   "version": "3.7.16"
  }
 },
 "nbformat": 4,
 "nbformat_minor": 4
}
